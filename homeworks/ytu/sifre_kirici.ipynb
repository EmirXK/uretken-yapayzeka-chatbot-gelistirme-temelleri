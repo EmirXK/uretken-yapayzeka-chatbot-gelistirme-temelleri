{
 "cells": [
  {
   "cell_type": "markdown",
   "id": "f3fe54c9",
   "metadata": {},
   "source": [
    "## 1)  Şifrelenmiş mesajı çöz (orijinal metni bul)."
   ]
  },
  {
   "cell_type": "code",
   "execution_count": 1,
   "id": "33f88957",
   "metadata": {},
   "outputs": [],
   "source": [
    "def harf_degistir(karakter):\n",
    "    if karakter.islower():\n",
    "        return chr((ord(karakter) - 97 + 5) % 26 + 97)\n",
    "    elif karakter.isupper():\n",
    "        return chr((ord(karakter) - 65 + 5) % 26 + 65)\n",
    "    else:\n",
    "        return karakter\n",
    "\n",
    "def metin_sifrele(metin):\n",
    "    sifreli_metin = \"\"\n",
    "    sayi = \"\"\n",
    "    for karakter in metin:\n",
    "        if karakter.isalpha():\n",
    "            if sayi:\n",
    "                sifreli_metin += sayi[::-1]\n",
    "                sayi = \"\"\n",
    "            sifreli_metin += harf_degistir(karakter)\n",
    "        elif karakter.isdigit():\n",
    "            sayi += karakter\n",
    "        else:\n",
    "            if sayi:\n",
    "                sifreli_metin += sayi[::-1]\n",
    "                sayi = \"\"\n",
    "            sifreli_metin += karakter\n",
    "    if sayi:\n",
    "        sifreli_metin += sayi[::-1]\n",
    "    return sifreli_metin"
   ]
  },
  {
   "cell_type": "code",
   "execution_count": 2,
   "id": "bbc1125b",
   "metadata": {},
   "outputs": [
    {
     "name": "stdout",
     "output_type": "stream",
     "text": [
      "dro aesmu lbygx pyh tewzc yfob dro vkji nyq\n"
     ]
    }
   ],
   "source": [
    "metin = \"ymj vznhp gwtbs ktc ozrux tajw ymj qfed itl\"\n",
    "sifreli_metin = metin_sifrele(metin)\n",
    "print(sifreli_metin)"
   ]
  },
  {
   "cell_type": "code",
   "execution_count": 3,
   "id": "205adab9",
   "metadata": {},
   "outputs": [
    {
     "name": "stdout",
     "output_type": "stream",
     "text": [
      "iwt fjxrz qgdlc udm yjbeh dktg iwt apon sdv\n"
     ]
    }
   ],
   "source": [
    "metin = sifreli_metin\n",
    "sifreli_metin2 = metin_sifrele(metin)\n",
    "print(sifreli_metin2)"
   ]
  },
  {
   "cell_type": "code",
   "execution_count": 4,
   "id": "f4be4de2",
   "metadata": {},
   "outputs": [
    {
     "name": "stdout",
     "output_type": "stream",
     "text": [
      "nby kocwe vliqh zir dogjm ipyl nby futs xia\n"
     ]
    }
   ],
   "source": [
    "metin = sifreli_metin2\n",
    "sifreli_metin3 = metin_sifrele(metin)\n",
    "print(sifreli_metin3)"
   ]
  },
  {
   "cell_type": "markdown",
   "id": "da837e43",
   "metadata": {},
   "source": [
    "## 2) Tersine mühendislik yaparak algoritmayı ters çevir."
   ]
  },
  {
   "cell_type": "code",
   "execution_count": 5,
   "id": "d2e8564a",
   "metadata": {},
   "outputs": [],
   "source": [
    "def harf_degistir_ters(karakter):\n",
    "    if karakter.islower():\n",
    "        return chr((ord(karakter) - 97 - 5) % 26 + 97)\n",
    "    elif karakter.isupper():\n",
    "        return chr((ord(karakter) - 65 - 5) % 26 + 65)\n",
    "    else:\n",
    "        return karakter\n",
    "\n",
    "def metin_sifrele_ters(metin):\n",
    "    sifreli_metin = \"\"\n",
    "    sayi = \"\"\n",
    "    for karakter in metin:\n",
    "        if karakter.isalpha():\n",
    "            if sayi:\n",
    "                sifreli_metin += sayi[::-1]\n",
    "                sayi = \"\"\n",
    "            sifreli_metin += harf_degistir_ters(karakter)\n",
    "        elif karakter.isdigit():\n",
    "            sayi += karakter\n",
    "        else:\n",
    "            if sayi:\n",
    "                sifreli_metin += sayi\n",
    "                sayi = \"\"\n",
    "            sifreli_metin += karakter\n",
    "    if sayi:\n",
    "        sifreli_metin += sayi\n",
    "    return sifreli_metin"
   ]
  },
  {
   "cell_type": "code",
   "execution_count": 6,
   "id": "7e172b1c",
   "metadata": {},
   "outputs": [
    {
     "name": "stdout",
     "output_type": "stream",
     "text": [
      "ymj vznhp gwtbs ktc ozrux tajw ymj qfed itl\n"
     ]
    }
   ],
   "source": [
    "metin = \"dro aesmu lbygx pyh tewzc yfob dro vkji nyq\"\n",
    "sifreli_metin_ters = metin_sifrele_ters(metin)\n",
    "print(sifreli_metin_ters)"
   ]
  },
  {
   "cell_type": "code",
   "execution_count": 7,
   "id": "76e855b6",
   "metadata": {},
   "outputs": [
    {
     "name": "stdout",
     "output_type": "stream",
     "text": [
      "the quick brown fox jumps over the lazy dog\n"
     ]
    }
   ],
   "source": [
    "metin = sifreli_metin_ters\n",
    "sifreli_metin_ters2 = metin_sifrele_ters(metin)\n",
    "print(sifreli_metin_ters2)"
   ]
  },
  {
   "cell_type": "markdown",
   "id": "1e0a3930",
   "metadata": {},
   "source": [
    "## 3) Kullanıcının kendi mesajını şifreleyip geri açabileceği bir program "
   ]
  },
  {
   "cell_type": "code",
   "execution_count": 8,
   "id": "372dd619",
   "metadata": {},
   "outputs": [],
   "source": [
    "def sifrele(metin, kaydirma):\n",
    "    sifreli_metin = \"\"\n",
    "    for karakter in metin:\n",
    "        if karakter.isalpha():\n",
    "            baslangic = ord('a') if karakter.islower() else ord('A')\n",
    "            sifreli_karakter = chr((ord(karakter) - baslangic + kaydirma) % 26 + baslangic)\n",
    "            sifreli_metin += sifreli_karakter\n",
    "        else:\n",
    "            sifreli_metin += karakter\n",
    "    return sifreli_metin"
   ]
  },
  {
   "cell_type": "code",
   "execution_count": 9,
   "id": "2ffb558d",
   "metadata": {},
   "outputs": [],
   "source": [
    "def sifre_coz(sifreli_metin, kaydirma):\n",
    "    return sifrele(sifreli_metin, -kaydirma)"
   ]
  },
  {
   "cell_type": "code",
   "execution_count": 12,
   "id": "57c870b5",
   "metadata": {},
   "outputs": [
    {
     "data": {
      "text/plain": [
       "'Jgnnq AVW'"
      ]
     },
     "execution_count": 12,
     "metadata": {},
     "output_type": "execute_result"
    }
   ],
   "source": [
    "sifrele(\"Hello YTU\", 2)"
   ]
  },
  {
   "cell_type": "code",
   "execution_count": 13,
   "id": "8c148e30",
   "metadata": {},
   "outputs": [
    {
     "data": {
      "text/plain": [
       "'Hello YTU'"
      ]
     },
     "execution_count": 13,
     "metadata": {},
     "output_type": "execute_result"
    }
   ],
   "source": [
    "sifre_coz(\"Jgnnq AVW\", 2)"
   ]
  },
  {
   "cell_type": "code",
   "execution_count": null,
   "id": "e7213705",
   "metadata": {},
   "outputs": [],
   "source": []
  },
  {
   "cell_type": "code",
   "execution_count": null,
   "id": "22301bb9",
   "metadata": {},
   "outputs": [],
   "source": []
  },
  {
   "cell_type": "code",
   "execution_count": null,
   "id": "9db8dfd3",
   "metadata": {},
   "outputs": [],
   "source": []
  },
  {
   "cell_type": "code",
   "execution_count": null,
   "id": "b2902a76",
   "metadata": {},
   "outputs": [],
   "source": []
  },
  {
   "cell_type": "code",
   "execution_count": null,
   "id": "e8f104a5",
   "metadata": {},
   "outputs": [],
   "source": []
  },
  {
   "cell_type": "code",
   "execution_count": null,
   "id": "2c1920c8",
   "metadata": {},
   "outputs": [],
   "source": []
  },
  {
   "cell_type": "code",
   "execution_count": null,
   "id": "7fb74958",
   "metadata": {},
   "outputs": [],
   "source": []
  }
 ],
 "metadata": {
  "kernelspec": {
   "display_name": "Python 3 (ipykernel)",
   "language": "python",
   "name": "python3"
  },
  "language_info": {
   "codemirror_mode": {
    "name": "ipython",
    "version": 3
   },
   "file_extension": ".py",
   "mimetype": "text/x-python",
   "name": "python",
   "nbconvert_exporter": "python",
   "pygments_lexer": "ipython3",
   "version": "3.11.4"
  }
 },
 "nbformat": 4,
 "nbformat_minor": 5
}
