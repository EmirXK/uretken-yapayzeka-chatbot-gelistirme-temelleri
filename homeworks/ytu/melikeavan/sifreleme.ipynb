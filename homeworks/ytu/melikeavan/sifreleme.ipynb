{
 "cells": [
  {
   "cell_type": "code",
   "execution_count": null,
   "id": "52968d7a-841c-4cbe-a788-41ac7bdbb16c",
   "metadata": {},
   "outputs": [],
   "source": [
    "#ODEV"
   ]
  },
  {
   "cell_type": "code",
   "execution_count": 3,
   "id": "1bf02fbf-ca1c-48ab-9517-5fe1c8e57fd3",
   "metadata": {},
   "outputs": [
    {
     "name": "stdout",
     "output_type": "stream",
     "text": [
      "Decrypted text: the quick brown fox jumps over the lazy dog\n"
     ]
    },
    {
     "name": "stdin",
     "output_type": "stream",
     "text": [
      "Enter a message to encrypt:  the quick brown fox jumps over the lazy dog\n"
     ]
    },
    {
     "name": "stdout",
     "output_type": "stream",
     "text": [
      "Encrypted: ymj vznhp gwtbs ktc ozrux tajw ymj qfed itl\n",
      "Decrypted: the quick brown fox jumps over the lazy dog\n"
     ]
    }
   ],
   "source": [
    "import string\n",
    "\n",
    "def encrypt(text):\n",
    "    alphabet = string.ascii_lowercase\n",
    "    shifted_alphabet = alphabet[5:] + alphabet[:5]\n",
    "    encrypt_table = str.maketrans(alphabet + alphabet.upper(), shifted_alphabet + shifted_alphabet.upper())\n",
    "    \n",
    "    encrypted_text = text.translate(encrypt_table)\n",
    "    encrypted_text = ''.join([char if not char.isdigit() else char[::-1] for char in encrypted_text])\n",
    "    return encrypted_text\n",
    "\n",
    "def decrypt(text):\n",
    "    alphabet = string.ascii_lowercase\n",
    "    shifted_alphabet = alphabet[-5:] + alphabet[:-5]\n",
    "    decrypt_table = str.maketrans(alphabet + alphabet.upper(), shifted_alphabet + shifted_alphabet.upper())\n",
    "    \n",
    "    decrypted_text = text.translate(decrypt_table)\n",
    "    decrypted_text = ''.join([char if not char.isdigit() else char[::-1] for char in decrypted_text])\n",
    "    return decrypted_text\n",
    "\n",
    "# Test edelim\n",
    "cipher_text = \"ymj vznhp gwtbs ktc ozrux tajw ymj qfed itl\"\n",
    "print(\"Decrypted text:\", decrypt(cipher_text))\n",
    "\n",
    "# Kullanıcının mesajını şifreleyip çözmek için\n",
    "user_message = input(\"Enter a message to encrypt: \")\n",
    "encrypted = encrypt(user_message)\n",
    "print(\"Encrypted:\", encrypted)\n",
    "print(\"Decrypted:\", decrypt(encrypted))"
   ]
  }
 ],
 "metadata": {
  "kernelspec": {
   "display_name": "Python 3 (ipykernel)",
   "language": "python",
   "name": "python3"
  },
  "language_info": {
   "codemirror_mode": {
    "name": "ipython",
    "version": 3
   },
   "file_extension": ".py",
   "mimetype": "text/x-python",
   "name": "python",
   "nbconvert_exporter": "python",
   "pygments_lexer": "ipython3",
   "version": "3.12.4"
  }
 },
 "nbformat": 4,
 "nbformat_minor": 5
}
